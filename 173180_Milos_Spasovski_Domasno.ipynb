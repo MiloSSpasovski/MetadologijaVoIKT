{
 "cells": [
  {
   "cell_type": "markdown",
   "metadata": {
    "kernel": "Octave"
   },
   "source": [
    " # Филтрирање на слика во фреквенциски домен"
   ]
  },
  {
   "cell_type": "markdown",
   "metadata": {
    "kernel": "SoS"
   },
   "source": [
    "За да филтрираме слика во фреквенциски домен потребно е да ја помножиме сликата во фреквенциски домен со филтерот (кернел) кој е исто така во фреквенциски домен"
   ]
  },
  {
   "cell_type": "markdown",
   "metadata": {
    "kernel": "SoS"
   },
   "source": [
    "$$I_{f,filt} = HI_{f}$$"
   ]
  },
  {
   "cell_type": "markdown",
   "metadata": {
    "kernel": "SoS"
   },
   "source": [
    " За таа цел потребно е да се вметне Octave функција која ќе креира “Band pass gaussian filter” во фреквенциски домен. Bandpass гаусовиот филтер во фреквенциски домен е дефиниран со равенката:"
   ]
  },
  {
   "cell_type": "markdown",
   "metadata": {
    "kernel": "SoS"
   },
   "source": [
    "$$H(i,j) = e^{-\\frac{-d(i,j)^2}{f_h^2}}(1-e^{-\\frac{-d(i,j)^2}{f_h^2}})$$"
   ]
  },
  {
   "cell_type": "markdown",
   "metadata": {
    "kernel": "SoS"
   },
   "source": [
    " Каде што 𝑑(𝑖,𝑗) е евклидовото растојанието на даден пиксел од центарот на сликата, додека 𝑓ℎ и 𝑓𝑙 се праговите на високите и ниските фреквенции кои сакаме да ги филтрираме. Конверзија на 2D сликата од просторен во фреквенциски домен се прави со користење на Фуриева трансформација. Фуриевата трансформација е дефинирана како:"
   ]
  },
  {
   "cell_type": "markdown",
   "metadata": {
    "kernel": "SoS"
   },
   "source": [
    "$$ F(u,v) = \\iint_{-\\infty}^{\\infty} f(x,y) e^{-i2\\pi(ux+vy)}dxdy $$"
   ]
  },
  {
   "cell_type": "markdown",
   "metadata": {
    "kernel": "SoS"
   },
   "source": [
    "А во дискретниот домен горната равенка може да биде преведена како"
   ]
  },
  {
   "cell_type": "markdown",
   "metadata": {
    "kernel": "SoS"
   },
   "source": [
    "$$ F(u,v) = \\sum_{m=-\\infty}^\\infty \\sum_{n=-\\infty}^\\infty F[m,n] \\cdot e^{-i2\\pi(xmu_0+ynv_0)} $$"
   ]
  },
  {
   "cell_type": "markdown",
   "metadata": {
    "kernel": "SoS"
   },
   "source": [
    " Конверзија на 2D сликата од фреквенциски во просторен домен се прави со користење на инверзна Фуриева трансформација. Инверзната Фуриева трансформација е дефинирана како:"
   ]
  },
  {
   "cell_type": "markdown",
   "metadata": {
    "kernel": "SoS"
   },
   "source": [
    "$$ F(x,y) = \\iint_{-\\infty}^{\\infty} f(u,v) e^{i2\\pi(ux+vy)}dudv $$"
   ]
  },
  {
   "cell_type": "markdown",
   "metadata": {
    "kernel": "SoS"
   },
   "source": [
    "А во дискретниот домен горната равенка може да биде преведена како"
   ]
  },
  {
   "cell_type": "markdown",
   "metadata": {
    "kernel": "SoS"
   },
   "source": [
    "$$ F(x,y) = \\sum_{m=-\\infty}^\\infty \\sum_{n=-\\infty}^\\infty F(m,n) \\cdot e^{i2\\pi(xmu_0+ynv_0)} $$"
   ]
  },
  {
   "cell_type": "markdown",
   "metadata": {
    "kernel": "SoS"
   },
   "source": [
    "# Почнување со код"
   ]
  },
  {
   "cell_type": "code",
   "execution_count": 1,
   "metadata": {
    "kernel": "Octave"
   },
   "outputs": [],
   "source": [
    "zemislika= imread(\"Barbara.tif\");\n",
    "\n",
    "slikaF= fftshift(fft2(zemislika));\n",
    "\n",
    "function filter = create_filter(nx,ny,d0,d1)\n",
    "filter = ones(nx,ny);\n",
    "for i = 0:nx-1\n",
    "     for j = 0:ny-1\n",
    "     dist= sqrt((i-nx/2)^2 + (j-ny/2)^2);\n",
    "     filter(i+1,j+1) = exp(-(dist^2)/(d1^2)).*(1.0-exp(-(dist^2)/(d0^2)));\n",
    "     end\n",
    "end\n",
    "filter(nx/2+1,ny/2+1)=1;\n",
    "end\n",
    "\n",
    "function filter = zemiKernel(w,h,d0,d1)\n",
    "    filter = create_filter(w,h,d0,d1)\n",
    "end\n",
    "\n",
    "\n",
    "function filter = ZemiSLikaF(w,h,d0,d1,im_fft)\n",
    "    filter = abs(ifft2(ifftshift(create_filter(w,h,d0,d1).*im_fft)));\n",
    "end\n",
    "\n",
    "slikaD = im2double(zemislika);\n",
    "\n",
    "[a,b] = size(slikaD);\n"
   ]
  },
  {
   "cell_type": "markdown",
   "metadata": {
    "kernel": "SoS"
   },
   "source": [
    "## Прикажување на лизгач\n"
   ]
  },
  {
   "cell_type": "code",
   "execution_count": 2,
   "metadata": {
    "kernel": "Python3"
   },
   "outputs": [
    {
     "data": {
      "application/vnd.jupyter.widget-view+json": {
       "model_id": "1d9b8856ae174beda0c2e71179f0182e",
       "version_major": 2,
       "version_minor": 0
      },
      "text/plain": [
       "HBox(children=(Label(value='Lizgac za slikata'), interactive(children=(IntRangeSlider(value=(2, 7), descriptio…"
      ]
     },
     "metadata": {},
     "output_type": "display_data"
    }
   ],
   "source": [
    "from ipywidgets import interactive, widgets, interact, HBox, Label\n",
    "from IPython.display import Javascript\n",
    "\n",
    "x = 0\n",
    "w = 10\n",
    "\n",
    "def frekUpdate(y):\n",
    "    global x, w\n",
    "    x, w = y[0], y[1]\n",
    "    display(Javascript('IPython.notebook.execute_cells_below()'))\n",
    "\n",
    "slider = widgets.IntRangeSlider(\n",
    "    min=0,\n",
    "    max=10,\n",
    "    step=1,\n",
    "    readout=False,\n",
    "    description=' ')\n",
    "slider.layout.width = '450px'\n",
    "\n",
    "HBox([Label('Lizgac za slikata'), interactive(frekUpdate, y=slider)])\n",
    "\n"
   ]
  },
  {
   "cell_type": "code",
   "execution_count": null,
   "metadata": {
    "kernel": "Octave"
   },
   "outputs": [],
   "source": []
  },
  {
   "cell_type": "code",
   "execution_count": null,
   "metadata": {
    "kernel": "Octave"
   },
   "outputs": [],
   "source": []
  }
 ],
 "metadata": {
  "kernelspec": {
   "display_name": "SoS",
   "language": "sos",
   "name": "sos"
  },
  "language_info": {
   "codemirror_mode": "sos",
   "file_extension": ".sos",
   "mimetype": "text/x-sos",
   "name": "sos",
   "nbconvert_exporter": "sos_notebook.converter.SoS_Exporter",
   "pygments_lexer": "sos"
  },
  "sos": {
   "kernels": [
    [
     "Octave",
     "octave",
     "octave",
     "",
     ""
    ],
    [
     "Python3",
     "python3",
     "Python3",
     "#FFD91A",
     {
      "name": "ipython",
      "version": 3
     }
    ]
   ],
   "panel": {
    "displayed": true,
    "height": 0
   },
   "version": "0.21.0"
  }
 },
 "nbformat": 4,
 "nbformat_minor": 2
}
